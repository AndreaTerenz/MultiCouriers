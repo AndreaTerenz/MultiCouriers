{
 "cells": [
  {
   "cell_type": "code",
   "execution_count": 1,
   "metadata": {},
   "outputs": [],
   "source": [
    "import os\n",
    "import numpy as np\n",
    "from mip import *\n",
    "import math\n",
    "import itertools\n",
    "import json\n",
    "import time\n",
    "import math"
   ]
  },
  {
   "cell_type": "code",
   "execution_count": 2,
   "metadata": {},
   "outputs": [],
   "source": [
    "INSTANCE = 1\n",
    "Inst = os.listdir(\"Instances\")\n",
    "inst_n = str(INSTANCE)\n",
    "if INSTANCE < 10:\n",
    "    inst_n = \"0\" + inst_n\n",
    "f = open(\"Instances/inst\" + inst_n + \".dat\",  \"r\")\n",
    "Lines = f.readlines()\n",
    "TIME_START = time.time()\n",
    "m = int(Lines[0])  # N. of couriers\n",
    "n = int(Lines[1])  # N. of packages\n",
    "if m>n:\n",
    "    m = n  # No need for extra couriers\n",
    "load = [int(x) for x in Lines[2].split()]\n",
    "load.sort()\n",
    "size = [int(x) for x in Lines[3].split()]\n",
    "\n",
    "dist_table = np.zeros(shape=(len(Lines)-4, len([int(x) for x in Lines[4].split()])))\n",
    "for j in range(4,len(Lines)):\n",
    "    dist_table[j-4,:] = [int(x) for x in Lines[j].split()]\n",
    "f.close()"
   ]
  },
  {
   "cell_type": "code",
   "execution_count": 3,
   "metadata": {},
   "outputs": [
    {
     "ename": "UnboundLocalError",
     "evalue": "local variable 'proc' referenced before assignment",
     "output_type": "error",
     "traceback": [
      "\u001b[1;31m---------------------------------------------------------------------------\u001b[0m",
      "\u001b[1;31mNotImplementedError\u001b[0m                       Traceback (most recent call last)",
      "File \u001b[1;32mc:\\Users\\Alber\\AppData\\Local\\Programs\\Python\\Python310\\lib\\site-packages\\minizinc\\instance.py:365\u001b[0m, in \u001b[0;36mInstance.solutions\u001b[1;34m(self, timeout, nr_solutions, processes, random_seed, all_solutions, intermediate_solutions, free_search, optimisation_level, verbose, debug_output, **kwargs)\u001b[0m\n\u001b[0;32m    363\u001b[0m \u001b[39mtry\u001b[39;00m:\n\u001b[0;32m    364\u001b[0m     \u001b[39m# Run the MiniZinc process\u001b[39;00m\n\u001b[1;32m--> 365\u001b[0m     proc \u001b[39m=\u001b[39m \u001b[39mawait\u001b[39;00m \u001b[39mself\u001b[39m\u001b[39m.\u001b[39m_driver\u001b[39m.\u001b[39m_create_process(cmd, solver\u001b[39m=\u001b[39msolver)\n\u001b[0;32m    366\u001b[0m     \u001b[39massert\u001b[39;00m \u001b[39misinstance\u001b[39m(proc\u001b[39m.\u001b[39mstderr, asyncio\u001b[39m.\u001b[39mStreamReader)\n",
      "File \u001b[1;32mc:\\Users\\Alber\\AppData\\Local\\Programs\\Python\\Python310\\lib\\site-packages\\minizinc\\driver.py:284\u001b[0m, in \u001b[0;36mDriver._create_process\u001b[1;34m(self, args, solver)\u001b[0m\n\u001b[0;32m    279\u001b[0m     minizinc\u001b[39m.\u001b[39mlogger\u001b[39m.\u001b[39mdebug(\n\u001b[0;32m    280\u001b[0m         \u001b[39mf\u001b[39m\u001b[39m\"\u001b[39m\u001b[39mCLIDriver:create_process -> program: \u001b[39m\u001b[39m{\u001b[39;00m\u001b[39mstr\u001b[39m(\u001b[39mself\u001b[39m\u001b[39m.\u001b[39m_executable)\u001b[39m}\u001b[39;00m\u001b[39m \u001b[39m\u001b[39m\"\u001b[39m\n\u001b[0;32m    281\u001b[0m         \u001b[39mf\u001b[39m\u001b[39m'\u001b[39m\u001b[39margs: \u001b[39m\u001b[39m\"\u001b[39m\u001b[39m--solver \u001b[39m\u001b[39m{\u001b[39;00msolver\u001b[39m}\u001b[39;00m\u001b[39m --allow-multiple-assignments \u001b[39m\u001b[39m'\u001b[39m\n\u001b[0;32m    282\u001b[0m         \u001b[39mf\u001b[39m\u001b[39m\"\u001b[39m\u001b[39m{\u001b[39;00m\u001b[39m'\u001b[39m\u001b[39m \u001b[39m\u001b[39m'\u001b[39m\u001b[39m.\u001b[39mjoin(\u001b[39mstr\u001b[39m(arg) \u001b[39mfor\u001b[39;00m arg \u001b[39min\u001b[39;00m args)\u001b[39m}\u001b[39;00m\u001b[39m\\\"\u001b[39;00m\u001b[39m\"\u001b[39m\n\u001b[0;32m    283\u001b[0m     )\n\u001b[1;32m--> 284\u001b[0m     proc \u001b[39m=\u001b[39m \u001b[39mawait\u001b[39;00m create_subprocess_exec(\n\u001b[0;32m    285\u001b[0m         \u001b[39mstr\u001b[39m(\u001b[39mself\u001b[39m\u001b[39m.\u001b[39m_executable),\n\u001b[0;32m    286\u001b[0m         \u001b[39m\"\u001b[39m\u001b[39m--solver\u001b[39m\u001b[39m\"\u001b[39m,\n\u001b[0;32m    287\u001b[0m         solver,\n\u001b[0;32m    288\u001b[0m         \u001b[39m\"\u001b[39m\u001b[39m--allow-multiple-assignments\u001b[39m\u001b[39m\"\u001b[39m,\n\u001b[0;32m    289\u001b[0m         \u001b[39m*\u001b[39m[\u001b[39mstr\u001b[39m(arg) \u001b[39mfor\u001b[39;00m arg \u001b[39min\u001b[39;00m args],\n\u001b[0;32m    290\u001b[0m         stdin\u001b[39m=\u001b[39m\u001b[39mNone\u001b[39;00m,\n\u001b[0;32m    291\u001b[0m         stdout\u001b[39m=\u001b[39mPIPE,\n\u001b[0;32m    292\u001b[0m         stderr\u001b[39m=\u001b[39mPIPE,\n\u001b[0;32m    293\u001b[0m         \u001b[39m*\u001b[39m\u001b[39m*\u001b[39mwindows_spawn_options,\n\u001b[0;32m    294\u001b[0m     )\n\u001b[0;32m    295\u001b[0m \u001b[39mreturn\u001b[39;00m proc\n",
      "File \u001b[1;32mc:\\Users\\Alber\\AppData\\Local\\Programs\\Python\\Python310\\lib\\asyncio\\subprocess.py:218\u001b[0m, in \u001b[0;36mcreate_subprocess_exec\u001b[1;34m(program, stdin, stdout, stderr, limit, *args, **kwds)\u001b[0m\n\u001b[0;32m    216\u001b[0m protocol_factory \u001b[39m=\u001b[39m \u001b[39mlambda\u001b[39;00m: SubprocessStreamProtocol(limit\u001b[39m=\u001b[39mlimit,\n\u001b[0;32m    217\u001b[0m                                                     loop\u001b[39m=\u001b[39mloop)\n\u001b[1;32m--> 218\u001b[0m transport, protocol \u001b[39m=\u001b[39m \u001b[39mawait\u001b[39;00m loop\u001b[39m.\u001b[39msubprocess_exec(\n\u001b[0;32m    219\u001b[0m     protocol_factory,\n\u001b[0;32m    220\u001b[0m     program, \u001b[39m*\u001b[39margs,\n\u001b[0;32m    221\u001b[0m     stdin\u001b[39m=\u001b[39mstdin, stdout\u001b[39m=\u001b[39mstdout,\n\u001b[0;32m    222\u001b[0m     stderr\u001b[39m=\u001b[39mstderr, \u001b[39m*\u001b[39m\u001b[39m*\u001b[39mkwds)\n\u001b[0;32m    223\u001b[0m \u001b[39mreturn\u001b[39;00m Process(transport, protocol, loop)\n",
      "File \u001b[1;32mc:\\Users\\Alber\\AppData\\Local\\Programs\\Python\\Python310\\lib\\asyncio\\base_events.py:1667\u001b[0m, in \u001b[0;36mBaseEventLoop.subprocess_exec\u001b[1;34m(self, protocol_factory, program, stdin, stdout, stderr, universal_newlines, shell, bufsize, encoding, errors, text, *args, **kwargs)\u001b[0m\n\u001b[0;32m   1666\u001b[0m     \u001b[39mself\u001b[39m\u001b[39m.\u001b[39m_log_subprocess(debug_log, stdin, stdout, stderr)\n\u001b[1;32m-> 1667\u001b[0m transport \u001b[39m=\u001b[39m \u001b[39mawait\u001b[39;00m \u001b[39mself\u001b[39m\u001b[39m.\u001b[39m_make_subprocess_transport(\n\u001b[0;32m   1668\u001b[0m     protocol, popen_args, \u001b[39mFalse\u001b[39;00m, stdin, stdout, stderr,\n\u001b[0;32m   1669\u001b[0m     bufsize, \u001b[39m*\u001b[39m\u001b[39m*\u001b[39mkwargs)\n\u001b[0;32m   1670\u001b[0m \u001b[39mif\u001b[39;00m \u001b[39mself\u001b[39m\u001b[39m.\u001b[39m_debug \u001b[39mand\u001b[39;00m debug_log \u001b[39mis\u001b[39;00m \u001b[39mnot\u001b[39;00m \u001b[39mNone\u001b[39;00m:\n",
      "File \u001b[1;32mc:\\Users\\Alber\\AppData\\Local\\Programs\\Python\\Python310\\lib\\asyncio\\base_events.py:498\u001b[0m, in \u001b[0;36mBaseEventLoop._make_subprocess_transport\u001b[1;34m(self, protocol, args, shell, stdin, stdout, stderr, bufsize, extra, **kwargs)\u001b[0m\n\u001b[0;32m    497\u001b[0m \u001b[39m\"\"\"Create subprocess transport.\"\"\"\u001b[39;00m\n\u001b[1;32m--> 498\u001b[0m \u001b[39mraise\u001b[39;00m \u001b[39mNotImplementedError\u001b[39;00m\n",
      "\u001b[1;31mNotImplementedError\u001b[0m: ",
      "\nDuring handling of the above exception, another exception occurred:\n",
      "\u001b[1;31mUnboundLocalError\u001b[0m                         Traceback (most recent call last)",
      "\u001b[1;32mc:\\Users\\Alber\\Desktop\\CDMO\\Python\\Minizinc.ipynb Cell 3\u001b[0m line \u001b[0;36m1\n\u001b[0;32m     <a href='vscode-notebook-cell:/c%3A/Users/Alber/Desktop/CDMO/Python/Minizinc.ipynb#W2sZmlsZQ%3D%3D?line=9'>10</a>\u001b[0m instance[\u001b[39m\"\u001b[39m\u001b[39msize\u001b[39m\u001b[39m\"\u001b[39m] \u001b[39m=\u001b[39m size\n\u001b[0;32m     <a href='vscode-notebook-cell:/c%3A/Users/Alber/Desktop/CDMO/Python/Minizinc.ipynb#W2sZmlsZQ%3D%3D?line=10'>11</a>\u001b[0m instance[\u001b[39m\"\u001b[39m\u001b[39mdist\u001b[39m\u001b[39m\"\u001b[39m] \u001b[39m=\u001b[39m dist_table\n\u001b[1;32m---> <a href='vscode-notebook-cell:/c%3A/Users/Alber/Desktop/CDMO/Python/Minizinc.ipynb#W2sZmlsZQ%3D%3D?line=12'>13</a>\u001b[0m result \u001b[39m=\u001b[39m \u001b[39mawait\u001b[39;00m instance\u001b[39m.\u001b[39msolve_async()\n\u001b[0;32m     <a href='vscode-notebook-cell:/c%3A/Users/Alber/Desktop/CDMO/Python/Minizinc.ipynb#W2sZmlsZQ%3D%3D?line=13'>14</a>\u001b[0m \u001b[39mprint\u001b[39m(result)\n",
      "File \u001b[1;32mc:\\Users\\Alber\\AppData\\Local\\Programs\\Python\\Python310\\lib\\site-packages\\minizinc\\instance.py:235\u001b[0m, in \u001b[0;36mInstance.solve_async\u001b[1;34m(self, timeout, nr_solutions, processes, random_seed, all_solutions, intermediate_solutions, free_search, optimisation_level, **kwargs)\u001b[0m\n\u001b[0;32m    232\u001b[0m \u001b[39mif\u001b[39;00m multiple_solutions:\n\u001b[0;32m    233\u001b[0m     solution \u001b[39m=\u001b[39m []\n\u001b[1;32m--> 235\u001b[0m \u001b[39masync\u001b[39;00m \u001b[39mfor\u001b[39;00m result \u001b[39min\u001b[39;00m \u001b[39mself\u001b[39m\u001b[39m.\u001b[39msolutions(\n\u001b[0;32m    236\u001b[0m     timeout\u001b[39m=\u001b[39mtimeout,\n\u001b[0;32m    237\u001b[0m     nr_solutions\u001b[39m=\u001b[39mnr_solutions,\n\u001b[0;32m    238\u001b[0m     processes\u001b[39m=\u001b[39mprocesses,\n\u001b[0;32m    239\u001b[0m     random_seed\u001b[39m=\u001b[39mrandom_seed,\n\u001b[0;32m    240\u001b[0m     all_solutions\u001b[39m=\u001b[39mall_solutions,\n\u001b[0;32m    241\u001b[0m     free_search\u001b[39m=\u001b[39mfree_search,\n\u001b[0;32m    242\u001b[0m     optimisation_level\u001b[39m=\u001b[39moptimisation_level,\n\u001b[0;32m    243\u001b[0m     \u001b[39m*\u001b[39m\u001b[39m*\u001b[39mkwargs,\n\u001b[0;32m    244\u001b[0m ):\n\u001b[0;32m    245\u001b[0m     status \u001b[39m=\u001b[39m result\u001b[39m.\u001b[39mstatus\n\u001b[0;32m    246\u001b[0m     statistics\u001b[39m.\u001b[39mupdate(result\u001b[39m.\u001b[39mstatistics)\n",
      "File \u001b[1;32mc:\\Users\\Alber\\AppData\\Local\\Programs\\Python\\Python310\\lib\\site-packages\\minizinc\\instance.py:438\u001b[0m, in \u001b[0;36mInstance.solutions\u001b[1;34m(self, timeout, nr_solutions, processes, random_seed, all_solutions, intermediate_solutions, free_search, optimisation_level, verbose, debug_output, **kwargs)\u001b[0m\n\u001b[0;32m    433\u001b[0m             \u001b[39myield\u001b[39;00m Result(status, solution, statistics)\n\u001b[0;32m    434\u001b[0m \u001b[39mexcept\u001b[39;00m (asyncio\u001b[39m.\u001b[39mCancelledError, MiniZincError, \u001b[39mException\u001b[39;00m):\n\u001b[0;32m    435\u001b[0m     \u001b[39m# Process was cancelled by the user, a MiniZincError occurred, or\u001b[39;00m\n\u001b[0;32m    436\u001b[0m     \u001b[39m# an unexpected Python exception occurred\u001b[39;00m\n\u001b[0;32m    437\u001b[0m     \u001b[39m# First, terminate the process\u001b[39;00m\n\u001b[1;32m--> 438\u001b[0m     proc\u001b[39m.\u001b[39mterminate()\n\u001b[0;32m    439\u001b[0m     _ \u001b[39m=\u001b[39m \u001b[39mawait\u001b[39;00m proc\u001b[39m.\u001b[39mwait()\n\u001b[0;32m    440\u001b[0m     \u001b[39m# Then, reraise the error that occurred\u001b[39;00m\n",
      "\u001b[1;31mUnboundLocalError\u001b[0m: local variable 'proc' referenced before assignment"
     ]
    }
   ],
   "source": [
    "from minizinc import Instance, Model, Solver\n",
    "\n",
    "model = Model(\"C:/Users/Alber/Desktop/CDMO/FILES/BaseModel.mzn\")\n",
    "gecode = Solver.lookup(\"gecode\")\n",
    "instance = Instance(gecode, model)\n",
    "\n",
    "instance[\"m\"] = m\n",
    "instance[\"n\"] = n\n",
    "instance[\"load\"] = load\n",
    "instance[\"size\"] = size\n",
    "instance[\"dist\"] = dist_table\n",
    "\n",
    "result = await instance.solve_async()\n",
    "print(result)"
   ]
  }
 ],
 "metadata": {
  "kernelspec": {
   "display_name": "Python 3",
   "language": "python",
   "name": "python3"
  },
  "language_info": {
   "codemirror_mode": {
    "name": "ipython",
    "version": 3
   },
   "file_extension": ".py",
   "mimetype": "text/x-python",
   "name": "python",
   "nbconvert_exporter": "python",
   "pygments_lexer": "ipython3",
   "version": "3.10.5"
  }
 },
 "nbformat": 4,
 "nbformat_minor": 2
}

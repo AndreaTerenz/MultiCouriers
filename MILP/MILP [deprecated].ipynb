{
 "cells": [
  {
   "cell_type": "code",
   "execution_count": 19,
   "metadata": {},
   "outputs": [],
   "source": [
    "import os\n",
    "import numpy as np\n",
    "from mip import *\n",
    "import math\n",
    "import itertools\n",
    "import json\n",
    "import time\n",
    "import math"
   ]
  },
  {
   "cell_type": "code",
   "execution_count": 20,
   "metadata": {},
   "outputs": [
    {
     "name": "stdout",
     "output_type": "stream",
     "text": [
      "[[0. 3. 4. 5. 6. 6. 2.]\n",
      " [3. 0. 1. 4. 5. 7. 3.]\n",
      " [4. 1. 0. 5. 6. 6. 4.]\n",
      " [4. 4. 5. 0. 3. 3. 2.]\n",
      " [6. 7. 8. 3. 0. 2. 4.]\n",
      " [6. 7. 8. 3. 2. 0. 4.]\n",
      " [2. 3. 4. 3. 4. 4. 0.]]\n",
      "[10, 15]\n",
      "[3, 2, 6, 5, 4, 4]\n"
     ]
    }
   ],
   "source": [
    "INSTANCE = 1\n",
    "\n",
    "Inst = os.listdir(\"Instances\")\n",
    "inst_n = str(INSTANCE)\n",
    "if INSTANCE < 10:\n",
    "    inst_n = \"0\" + inst_n\n",
    "f = open(\"Instances/inst\" + inst_n + \".dat\",  \"r\")\n",
    "Lines = f.readlines()\n",
    "TIME_START = time.time()\n",
    "m = int(Lines[0])  # N. of couriers\n",
    "n = int(Lines[1])  # N. of packages\n",
    "if m>n:\n",
    "    m = n  # No need for extra couriers\n",
    "load = [int(x) for x in Lines[2].split()]\n",
    "load.sort()\n",
    "size = [int(x) for x in Lines[3].split()]\n",
    "\n",
    "dist_table = np.zeros(shape=(len(Lines)-4, len([int(x) for x in Lines[4].split()])))\n",
    "for j in range(4,len(Lines)):\n",
    "    dist_table[j-4,:] = [int(x) for x in Lines[j].split()]\n",
    "f.close()\n",
    "\n",
    "print(dist_table)\n",
    "print(load)\n",
    "print(size)"
   ]
  },
  {
   "cell_type": "code",
   "execution_count": 21,
   "metadata": {},
   "outputs": [],
   "source": [
    "def give_arcs(M, nodes):\n",
    "    res = np.array([])\n",
    "    for t in itertools.combinations(nodes, 2):\n",
    "        res = np.append(res, M[t])\n",
    "    return res\n",
    "\n",
    "def write_solution(m, n, Booleans):\n",
    "    res = []\n",
    "    for l in range(m):\n",
    "        tmp = []\n",
    "        for i in range(n):\n",
    "            if np.sum([x.x for x in Booleans[l,i,:-1]]) + np.sum([x.x for x in Booleans[l,:-1,i]]) > 0:\n",
    "                tmp.append(i)\n",
    "        if tmp != []:\n",
    "            res.append(tmp)\n",
    "    return res\n",
    "    "
   ]
  },
  {
   "cell_type": "code",
   "execution_count": 22,
   "metadata": {},
   "outputs": [
    {
     "name": "stdout",
     "output_type": "stream",
     "text": [
      "optimal solution cost 14.0 found\n",
      "whole vector: [14.0, 13.0]\n",
      "booleans: \n",
      "[[[0. 0. 0. 0. 0. 0. 0.]\n",
      "  [0. 0. 0. 0. 1. 0. 0.]\n",
      "  [0. 0. 0. 0. 0. 0. 0.]\n",
      "  [0. 0. 0. 0. 0. 0. 0.]\n",
      "  [0. 0. 0. 0. 0. 1. 0.]\n",
      "  [0. 0. 0. 0. 0. 0. 0.]\n",
      "  [0. 1. 0. 0. 0. 1. 0.]]\n",
      "\n",
      " [[0. 0. 1. 0. 0. 0. 0.]\n",
      "  [0. 0. 0. 0. 0. 0. 0.]\n",
      "  [0. 0. 0. 1. 0. 0. 0.]\n",
      "  [0. 0. 0. 0. 0. 0. 1.]\n",
      "  [0. 0. 0. 0. 0. 0. 0.]\n",
      "  [0. 0. 0. 0. 0. 0. 0.]\n",
      "  [1. 0. 0. 0. 0. 0. 0.]]]\n",
      "TEMP: [[0. 1. 0. 0. 1. 1. 1.]\n",
      " [1. 0. 1. 1. 0. 0. 1.]]\n"
     ]
    }
   ],
   "source": [
    "\"\"\"\n",
    "IDEA: One Travelling salesman problem per courier\n",
    "      (aka, one full connection table of booleans for selecting the path)\n",
    "      -> Remove 'Assignments', use only the table and build constraints on top of it\n",
    "\"\"\"\n",
    "\n",
    "model = Model(sense=MINIMIZE, solver_name=CBC) # use GRB for Gurobi\n",
    "Distances = [ model.add_var(name='distance '+str(i), var_type=INTEGER, lb=0, ub=sum(dist_table[0,:])) for i in range(m) ]\n",
    "Booleans = np.array([ model.add_var(name='bool '+str(i), var_type=BINARY) for i in range(m * dist_table.size) ])\n",
    "Booleans = np.reshape(Booleans, (m,n+1,n+1))\n",
    "TEMP = np.reshape([ model.add_var(name='temp '+str(i), var_type=BINARY) for i in range(m * len(dist_table)) ], (m,len(dist_table)))\n",
    "OBJ_VAL = model.add_var(name='final val', var_type=INTEGER, lb=0)\n",
    "\n",
    "for l in range(m):\n",
    "    model += OBJ_VAL >= Distances[l]\n",
    "model.objective = minimize(OBJ_VAL)\n",
    "# model.objective = minimize(xsum(Distances))\n",
    "\n",
    "for l in range(m):\n",
    "    for j in range(n+1):\n",
    "        model += xsum(np.concatenate((Booleans[l,j,:], Booleans[l,:,j]))) == 2 * TEMP[l,j]  # Every house is part of either 2 or 0 travels :D\n",
    "\n",
    "for l in range(n):\n",
    "    model += xsum(np.reshape(np.concatenate((Booleans[:,l,:], Booleans[:,:,l])),-1)) == 2\n",
    "    # Deliver every package, only once (checking that the sum of its indexes is 2 over all m)\n",
    "model += xsum(np.reshape(np.concatenate((Booleans[:,n,:], Booleans[:,:,n])), -1))  == 2 * m  # Not perfect, assumes every courier moves\n",
    "model += xsum(np.reshape(TEMP, -1)) == n + m  # Redundant constraint\n",
    "\n",
    "for l in range(m):\n",
    "    for x in range(n):\n",
    "        for y in range(n):\n",
    "            model += Booleans[l,x,y] + Booleans[l,y,x] <= 1\n",
    "            # No looping between houses\n",
    "\n",
    "    model += xsum(np.reshape(np.multiply(Booleans[l,:,:], dist_table),-1)) == Distances[l]\n",
    "    # Calculate Distances\n",
    "\n",
    "    model += xsum(TEMP[l,:-1] * size) <= load[l]\n",
    "    # Load size\n",
    "\n",
    "    model += xsum([Booleans[l,x,y] for x in range(n) for y in range(n) if x >= y]) == 0\n",
    "    model += Booleans[l,n,n] == 0\n",
    "    # Symmetry breaking + No looping between houses\n",
    "\n",
    "\n",
    "for l in range(m):\n",
    "    for loop in range(2, n-m+1):\n",
    "        for t in itertools.combinations(range(n), loop):  # Of size loop, in range n\n",
    "            model += xsum(give_arcs(Booleans[l, :, :], t)) <= loop -1\n",
    "            # Avoid separate loops (?)\n",
    "\n",
    "#Load_after = [ model.add_var(name='load '+str(i), var_type=INTEGER, lb=0, ub=sum(size)) for i in range(n) ]\n",
    "#for l in range(m):\n",
    "#    for x in range(n):\n",
    "#        for y in range(n):\n",
    "#            if x<y and size[x] + size[y] <= load[l]:\n",
    "#                model+= Load_after[x] - Load_after[y] + load[l] * (Booleans[l,x,y] + Booleans[l,y,x]) <= load[l] - size[y]        \n",
    "#        model += Load_after[x] + sum(size) * (TEMP[l,x]-1) <= load[l]\n",
    "#for x in range(n):\n",
    "#    model += size[x] <= Load_after[x]\n",
    "\n",
    "status = model.optimize(max_seconds=3000)\n",
    "time_end = time.time() - TIME_START\n",
    "if status == OptimizationStatus.OPTIMAL:\n",
    "    print(f'optimal solution cost {model.objective_value} found')\n",
    "print(f'whole vector: {[i.x for i in Distances]}')\n",
    "print(f'booleans: \\n{np.reshape([b.x for b in np.reshape(Booleans,-1)], Booleans.shape)}')\n",
    "print(f\"TEMP: {np.reshape([t.x for t in np.reshape(TEMP,-1)], TEMP.shape)}\")\n",
    "# print(f\"Load_After: {[k.x for k in Load_after]}\")\n"
   ]
  },
  {
   "cell_type": "code",
   "execution_count": 25,
   "metadata": {},
   "outputs": [
    {
     "name": "stdout",
     "output_type": "stream",
     "text": [
      "{\"approach\": \"MIP with CBC (Coin-or Branch and Cut)\", \"time\": 1, \"optimal\": true, \"solution\": [[1, 4, 5], [0, 2, 3]]}\n"
     ]
    }
   ],
   "source": [
    "# JSON Export\n",
    "\n",
    "import json\n",
    "solution_json = json.dumps({'approach': \"MIP with CBC (Coin-or Branch and Cut)\", 'time': math.floor(time_end),\n",
    "                            'optimal': status == OptimizationStatus.OPTIMAL and time_end < 300, 'solution': write_solution(m,n, Booleans)})\n",
    "print(solution_json)\n",
    "with open('res/MIP/' + str(INSTANCE) + '.json', 'w') as outfile:\n",
    "    outfile.write(solution_json)"
   ]
  }
 ],
 "metadata": {
  "kernelspec": {
   "display_name": "Python 3",
   "language": "python",
   "name": "python3"
  },
  "language_info": {
   "codemirror_mode": {
    "name": "ipython",
    "version": 3
   },
   "file_extension": ".py",
   "mimetype": "text/x-python",
   "name": "python",
   "nbconvert_exporter": "python",
   "pygments_lexer": "ipython3",
   "version": "3.10.5"
  },
  "orig_nbformat": 4,
  "vscode": {
   "interpreter": {
    "hash": "5553d78491da5a8c91fcd61fe7b02c2baae1da040131f20618da906261774897"
   }
  }
 },
 "nbformat": 4,
 "nbformat_minor": 2
}
